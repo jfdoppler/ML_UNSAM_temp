{
 "cells": [
  {
   "cell_type": "markdown",
   "metadata": {
    "id": "zYfU9a-XL4Uz"
   },
   "source": [
    "En este Notebook  vamos a explorar un poco los conceptos de aleatoreidad y probabilidad en Python"
   ]
  },
  {
   "cell_type": "markdown",
   "metadata": {
    "id": "nxwLR7oTMouW"
   },
   "source": [
    "# Importamos lo necesario"
   ]
  },
  {
   "cell_type": "code",
   "execution_count": null,
   "metadata": {
    "id": "uF5tQ5DeK0Sc"
   },
   "outputs": [],
   "source": [
    "import numpy as np\n",
    "import matplotlib.pyplot as plt"
   ]
  },
  {
   "cell_type": "markdown",
   "metadata": {
    "id": "iCLauPLFMrkf"
   },
   "source": [
    "# Aleatoriedad"
   ]
  },
  {
   "cell_type": "markdown",
   "metadata": {
    "id": "xV7rsk3JMx_N"
   },
   "source": [
    "La aleatoriedad es un concepto central de la teoría de probabilidad. En general, la aleatoriedad viene asociada con la incertidumbre, que puede surgir por los errores de los datos o por los tamaños finitos de las muestras.\n",
    "\n",
    "En la computadora, la aleatoriedad se simula usando como base un generador de números pseudo aleatorios (GNPA). Un GNPA genera una serie de números cuyas propiedades son similares a las de una serie de números aleatorios.\n",
    "\n",
    "En python muchas de las funciones relacionadas están implementadas en el módulo random, pero una implementación más práctica aparece en el paquete numpy"
   ]
  },
  {
   "cell_type": "code",
   "execution_count": null,
   "metadata": {
    "id": "9I8QCDpwMq47"
   },
   "outputs": [],
   "source": [
    "from numpy import random"
   ]
  },
  {
   "cell_type": "markdown",
   "metadata": {
    "id": "81YNPvc2M_8b"
   },
   "source": [
    "Podemos generar un numero al azar entre 0 y 1 facilmente"
   ]
  },
  {
   "cell_type": "code",
   "execution_count": null,
   "metadata": {
    "colab": {
     "base_uri": "https://localhost:8080/"
    },
    "id": "11mMY_GNM3QK",
    "outputId": "fc7706cc-49dc-49a0-e579-f9e4c4e2d6bb"
   },
   "outputs": [],
   "source": [
    "random.rand()"
   ]
  },
  {
   "cell_type": "markdown",
   "metadata": {
    "id": "6GWjFrdCNF8d"
   },
   "source": [
    "Si corren la celda de arriba muchas veces, el resultado obtenido es diferente, pero siempre un número entre 0 y 1. Pero en realidad, los GNPA utilizan algoritmos, cuyas propiedades estás perfectamente definidas por el valor inicial (la semilla, o <em>seed</em>). Por lo tanto, no son realmente aleatorios."
   ]
  },
  {
   "cell_type": "code",
   "execution_count": null,
   "metadata": {
    "colab": {
     "base_uri": "https://localhost:8080/"
    },
    "id": "svsPZlO0NEf_",
    "outputId": "42c10450-b864-4efd-e75f-ed26c4c7eab3"
   },
   "outputs": [],
   "source": [
    "random.seed(1234)\n",
    "print(random.rand())\n",
    "print(random.rand())\n",
    "random.seed(1234)\n",
    "print(random.rand())\n",
    "print(random.rand())"
   ]
  },
  {
   "cell_type": "markdown",
   "metadata": {
    "id": "aotTdfQzN969"
   },
   "source": [
    "Una característica práctica de la implementación en <tt>numpy</tt> es que se puede generar <tt>arrays</tt> de números aleatorios, pasándole el tamaño en cada dimensión. Esto puede ahorrarnos bastante tiempo"
   ]
  },
  {
   "cell_type": "code",
   "execution_count": null,
   "metadata": {
    "colab": {
     "base_uri": "https://localhost:8080/"
    },
    "id": "KjRlDb7CN9JP",
    "outputId": "f9787303-595b-4356-c848-6fe3f74c8853"
   },
   "outputs": [],
   "source": [
    "random.seed(1234)\n",
    "print('Un array de 5x1')\n",
    "print(random.rand(5,))\n",
    "print('Un array de 3x2')\n",
    "print(random.rand(3,2))"
   ]
  },
  {
   "cell_type": "markdown",
   "metadata": {
    "id": "HU-WGvY7OKRu"
   },
   "source": [
    "Y por supuesto, si vuelvo a la misma semilla, los resultado son idénticos."
   ]
  },
  {
   "cell_type": "code",
   "execution_count": null,
   "metadata": {
    "colab": {
     "base_uri": "https://localhost:8080/"
    },
    "id": "8dlMzlh-OFki",
    "outputId": "db164eb4-31b6-49bf-c834-df1331658fcb"
   },
   "outputs": [],
   "source": [
    "random.seed(1234)\n",
    "print('Un array de 5x1')\n",
    "print(random.rand(5,))\n",
    "print('Un array de 3x2')\n",
    "print(random.rand(3,2))"
   ]
  },
  {
   "cell_type": "markdown",
   "metadata": {
    "id": "E3oa50peOeLw"
   },
   "source": [
    "# Probabilidad"
   ]
  },
  {
   "cell_type": "markdown",
   "metadata": {
    "id": "eDtVW5k3Of6p"
   },
   "source": [
    "Pero... que significa que `numpy.random.rand()` genere numeros al azar entre [0, 1)?\n",
    "\n",
    "La variable aleatoria $x$ sigue una distribucion **uniforme** en [0.0, 1.0).\n",
    "\n",
    "Podemos caracterizar una distribucion uniforme en [a,b) definiendo su densidad de probabilidad como:\n",
    "\n",
    "$p(x)=\\frac{1}{b-a}$ si $a \\leq x < b$\n",
    "\n",
    "$p(x)=0$ si $a > x$ o $ b \\leq x$\n"
   ]
  },
  {
   "cell_type": "markdown",
   "metadata": {
    "id": "OCIqXQ3wPysp"
   },
   "source": [
    "Como comprobamos que $x$ sigue una distribuccion uniforme?\n",
    "\n",
    "Bueno, podemos generar N tiradas y aprovechar que tenemos N variables independientes identicamente distribuidas para obtener los momentos de $x$. Si los momentos son los de la distribucion uniforme, gane.\n",
    "\n",
    "Calculemos para N = 10 la media y la desviacion estandar de $x$, puede hacerlo a mano o utilizando `np.mean` y `np.std` y comparen con los resultados esperados sabiendo que\n",
    "\n",
    "$\\mu = \\int p(x)x dx = \\int_{a}^{b}\\frac{x}{b-a}dx=\\frac{b^{2}-a^{2}}{2(b-a)}=\\frac{b+a}{2}$\n",
    "\n",
    "$\\sigma^{2}=\\int p(x)(x-\\mu)^{2}dx = \\frac{1}{b-a}\\int_{a}^{b}(x-\\frac{a+b}{2})^{2}dx = \\frac{1}{b-a}\\int_{-(b-a)/2}^{(b-a)/2}u^{2}du=\\frac{(b-a)^{2}}{12}$\n",
    "\n",
    "\n",
    "A partir de datos, podemos calcular los estimadores de estos parámetros:\n",
    "\n",
    "$\\hat{\\mu} = \\frac{1}{N}\\sum_{n=1}^{N}x_{n}$\n",
    "\n",
    "$\\hat{\\sigma}^{2} = \\frac{1}{N-1}\\sum_{n=1}^{N}(x_{n}-\\mu)^{2}$\n"
   ]
  },
  {
   "cell_type": "markdown",
   "metadata": {
    "id": "8MVooPnqS44j"
   },
   "source": [
    "### Ejercicio"
   ]
  },
  {
   "cell_type": "markdown",
   "metadata": {},
   "source": [
    "Hagan un experimento de 10 muestras para una distribución uniforme, y comparen los estimadores con los valores esperados."
   ]
  },
  {
   "cell_type": "code",
   "execution_count": null,
   "metadata": {
    "colab": {
     "base_uri": "https://localhost:8080/"
    },
    "id": "kBBXwBW2OVKp",
    "outputId": "6f1d63b4-8db0-4c79-8609-5f8f70391c78"
   },
   "outputs": [],
   "source": [
    "N = 10\n",
    "a = 0.0\n",
    "b = 1.0\n",
    "media_esperada = (a+b)*0.5\n",
    "desviacion_estandar_esperada = (b-a)/np.sqrt(12)\n",
    "print(media_esperada, desviacion_estandar_esperada)\n",
    "\n",
    "experimentos = random.rand(N)\n",
    "print(np.mean(experimentos), np.std(experimentos, ddof=1))"
   ]
  },
  {
   "cell_type": "markdown",
   "metadata": {
    "id": "E7ItGXYHTCNt"
   },
   "source": [
    "Ahora repitanlo aumentando el número de muestras. Grafiquen los estimadores en función del número de muestras"
   ]
  },
  {
   "cell_type": "code",
   "execution_count": null,
   "metadata": {},
   "outputs": [],
   "source": []
  },
  {
   "cell_type": "markdown",
   "metadata": {
    "id": "rJfLxnC7UMrc"
   },
   "source": [
    "### Seguimos"
   ]
  },
  {
   "cell_type": "markdown",
   "metadata": {
    "id": "-eNsNWYFU4Q3"
   },
   "source": [
    "Ademas de comparar momentos, podemos visualizar las mediciones. Una opcion es usar un box plot, donde se muestran los cuantiles de los datos"
   ]
  },
  {
   "cell_type": "code",
   "execution_count": null,
   "metadata": {
    "colab": {
     "base_uri": "https://localhost:8080/",
     "height": 334
    },
    "id": "Qx5lIW7UTpKA",
    "outputId": "26cfec26-adc1-44e0-d9d5-a948fbdc8347"
   },
   "outputs": [],
   "source": [
    "data = [experimentos[:m] for m in N_exp]\n",
    "fig, ax = plt.subplots()\n",
    "ax.set_title('Multiple Samples with Different sizes')\n",
    "ax.boxplot(data);"
   ]
  },
  {
   "cell_type": "markdown",
   "metadata": {
    "id": "9lCWp4wMV2q6"
   },
   "source": [
    "La opcion que vamos a preferir en la materia es utilizar histogramas.\n",
    "\n",
    "Los histogramas separan el rango de variable aleatoria en M bines. Luego, cuentan cuantos eventos caen en cada bin. Al hacer los histogramas, suele ser mas seguro definir los bines de antemano. Por ejemplo, con `np.linspace` o `np.arange`.\n"
   ]
  },
  {
   "cell_type": "code",
   "execution_count": null,
   "metadata": {
    "colab": {
     "base_uri": "https://localhost:8080/",
     "height": 1000
    },
    "id": "pjNMTR8GVsmr",
    "outputId": "8942ff54-1616-4bd3-d065-a59825db98a1"
   },
   "outputs": [],
   "source": [
    "bins = np.linspace(0.0, 1.0, 10)\n",
    "for dato in data:\n",
    "\tplt.hist(dato, bins=bins, color='b', alpha=0.4)\n",
    "\tplt.xlabel('$x$')\n",
    "\tplt.ylabel('$N_{\\text{eventos}}$')\n",
    "\tplt.title(f'Histograma para {len(dato)} mediciones')\n",
    "\tplt.show()"
   ]
  },
  {
   "cell_type": "markdown",
   "metadata": {
    "id": "qjynrl3BXWii"
   },
   "source": [
    "Podemos normalizar los histogramas para que la suma de todos los conteos de 1. Una ventaja de esto es que podemos comparar con la distribucion de probabilidad."
   ]
  },
  {
   "cell_type": "code",
   "execution_count": null,
   "metadata": {
    "colab": {
     "base_uri": "https://localhost:8080/",
     "height": 1000
    },
    "id": "1h82pbpcWUr1",
    "outputId": "48801dc8-466a-43c0-9db4-edabd7592adf"
   },
   "outputs": [],
   "source": [
    "bins = np.linspace(0.0, 1.0, 10)\n",
    "for dato in data:\n",
    "    plt.hist(dato, bins=bins, color='b', alpha=0.4, density='True')\n",
    "    plt.plot(bins, [(1.0/(b-a))] * len(bins), color='black', linestyle='dotted')\n",
    "    plt.xlabel('$x$')\n",
    "    plt.ylabel('$N_{\\text{eventos}}$')\n",
    "    plt.title(f'Histograma para {len(dato)} mediciones')\n",
    "    plt.show()"
   ]
  },
  {
   "cell_type": "markdown",
   "metadata": {},
   "source": [
    "O usar un bineado automático (ver [documentacion](https://matplotlib.org/stable/api/_as_gen/matplotlib.pyplot.hist.html))"
   ]
  },
  {
   "cell_type": "code",
   "execution_count": null,
   "metadata": {},
   "outputs": [],
   "source": [
    "plt.hist(experimentos[:100], bins='auto', density=True, alpha=0.4)\n",
    "plt.xlabel('$x$')\n",
    "plt.ylabel('$N_{\\text{eventos}}$')"
   ]
  },
  {
   "cell_type": "markdown",
   "metadata": {
    "id": "jExchur6Xr-1"
   },
   "source": [
    "Qué quiere decir que $p(x)>1$ para alguno bines?"
   ]
  },
  {
   "cell_type": "markdown",
   "metadata": {
    "id": "BrO6YztpZBMf"
   },
   "source": [
    "## Otras distribuciones"
   ]
  },
  {
   "cell_type": "markdown",
   "metadata": {
    "id": "o4ztpy0HZDLk"
   },
   "source": [
    "En la vida, y casi siempre, las variables  no siguen distribuciones uniformes (ni normales!). Existen muchas otras distribuciones típicas, que pueden aparecer en la vida real (dependiendo de la naturaleza del proceso de generación de los datos). Por suerte, la gran mayoria de ellas estan implementadas en `scipy.stats`"
   ]
  },
  {
   "cell_type": "code",
   "execution_count": null,
   "metadata": {
    "id": "XoA9LVC6YLi7"
   },
   "outputs": [],
   "source": [
    "from scipy.stats import norm, beta, bernoulli, binom, multinomial, multivariate_normal, poisson, gamma #etc"
   ]
  },
  {
   "cell_type": "markdown",
   "metadata": {
    "id": "eQIkxtkvZfO-"
   },
   "source": [
    "Para variar un poco vayamos a alguna variable aleatoria discreta. Por ejemplo, la cantidad $k$ de veces que una moneda cargada con probabilidad $p$ sale cara (1) si la tiramos $N$ veces. Cada tirada sigue una distribucion de Bernoulli pero tambien podemos considerar la Binomial con $k$ exitos en $N$ tiradas, dado que son equivalentes.\n",
    "\n",
    "Los parametros de la distribucion que sigue la variable aleatoria $k$ son $N$ y $p$. Entonces, podemos definir una distribucion especifica como"
   ]
  },
  {
   "cell_type": "code",
   "execution_count": null,
   "metadata": {
    "id": "hVn8E8o9Zcyt"
   },
   "outputs": [],
   "source": [
    "N = 10\n",
    "p = 0.6\n",
    "mi_binomial = binom(p=p, n=N)"
   ]
  },
  {
   "cell_type": "markdown",
   "metadata": {
    "id": "MbjDVYjLak-V"
   },
   "source": [
    "$k$ puede tomar valores 0, 1, 2, ... ,10."
   ]
  },
  {
   "cell_type": "code",
   "execution_count": null,
   "metadata": {
    "colab": {
     "base_uri": "https://localhost:8080/"
    },
    "id": "fExZLIk0aEDi",
    "outputId": "ba06265c-4829-497a-9994-0681186734ca"
   },
   "outputs": [],
   "source": [
    "k_values = np.arange(0, 11, 1)\n",
    "print(k_values)"
   ]
  },
  {
   "cell_type": "markdown",
   "metadata": {
    "id": "AkI_APJiavu1"
   },
   "source": [
    "Podemos ver la probabilidad de cada $k$ utilizando el metodo `pmf`"
   ]
  },
  {
   "cell_type": "code",
   "execution_count": null,
   "metadata": {
    "colab": {
     "base_uri": "https://localhost:8080/"
    },
    "id": "KVWMDk1KaqUc",
    "outputId": "1bf4ce35-8aff-48f1-ffa8-e13bb222d6ed"
   },
   "outputs": [],
   "source": [
    "for k in k_values:\n",
    "    print(k, mi_binomial.pmf(k))"
   ]
  },
  {
   "cell_type": "markdown",
   "metadata": {
    "id": "1Lt3dhvza7AT"
   },
   "source": [
    "Obviamente, es mas lindo graficarlo. Gracias a numpy, todo se lee intuitivamente"
   ]
  },
  {
   "cell_type": "code",
   "execution_count": null,
   "metadata": {
    "colab": {
     "base_uri": "https://localhost:8080/",
     "height": 296
    },
    "id": "bHs0WcNZa26z",
    "outputId": "e1a17442-a308-418b-ad83-448b92c2c71d"
   },
   "outputs": [],
   "source": [
    "k_probs = mi_binomial.pmf(k_values)\n",
    "plt.scatter(k_values, k_probs)\n",
    "plt.xlabel('k')\n",
    "plt.ylabel('Binom(k|N,p)')"
   ]
  },
  {
   "cell_type": "markdown",
   "metadata": {
    "id": "i5S60y2sbOlx"
   },
   "source": [
    "Comprobemos la normalizacion!"
   ]
  },
  {
   "cell_type": "code",
   "execution_count": null,
   "metadata": {
    "colab": {
     "base_uri": "https://localhost:8080/"
    },
    "id": "dtFOaKuAbFHi",
    "outputId": "492113de-0550-459f-af7a-1e56ce424e78"
   },
   "outputs": [],
   "source": [
    "print(np.sum(k_probs))"
   ]
  },
  {
   "cell_type": "markdown",
   "metadata": {
    "id": "KEN-hnUTbfPf"
   },
   "source": [
    "Podemos generar datos a partir de esta distribucion utilizando el metodo `rvs`. Que son estos datos?"
   ]
  },
  {
   "cell_type": "code",
   "execution_count": null,
   "metadata": {
    "id": "u-xrspOtbRhj"
   },
   "outputs": [],
   "source": [
    "Nexp = 1000000\n",
    "tiradas = mi_binomial.rvs(Nexp)"
   ]
  },
  {
   "cell_type": "markdown",
   "metadata": {
    "id": "5O-cVdyIbxl6"
   },
   "source": [
    "Repitamos lo que hicimos con la uniforme, calculemos los momentos sabiendo que\n",
    "\n",
    "$\\mu = \\sum_{k=0}^{N}k\\cdot p(k|N,p)=N\\cdot p$\n",
    "\n",
    "$\\sigma^{2} = N\\cdot p\\cdot (1-p)$\n",
    "\n",
    "Donde aca la sumatoria es exacta y no una aproximacion."
   ]
  },
  {
   "cell_type": "code",
   "execution_count": null,
   "metadata": {
    "colab": {
     "base_uri": "https://localhost:8080/"
    },
    "id": "oL5473n2crIw",
    "outputId": "72f2db60-dc36-43da-ed0e-46eea8c03b28"
   },
   "outputs": [],
   "source": [
    "media_esperada = N*p\n",
    "desviacion_estandar_esperada = np.sqrt(N*p*(1-p))\n",
    "print(media_esperada, desviacion_estandar_esperada)"
   ]
  },
  {
   "cell_type": "markdown",
   "metadata": {
    "id": "wbufMoKJcnzq"
   },
   "source": [
    "### Ejercicio"
   ]
  },
  {
   "cell_type": "markdown",
   "metadata": {},
   "source": [
    "Estudien los estimadores e histogramas en función de la cantidad de datos"
   ]
  },
  {
   "cell_type": "code",
   "execution_count": null,
   "metadata": {},
   "outputs": [],
   "source": []
  },
  {
   "cell_type": "markdown",
   "metadata": {
    "id": "0rST1owvelzP"
   },
   "source": [
    "### Seguimos"
   ]
  },
  {
   "cell_type": "markdown",
   "metadata": {
    "id": "9uYeLK7DexDB"
   },
   "source": [
    "Vamos con la Gaussiana, o distribucion Normal, $\\mathcal{N}(x|\\mu,\\sigma^{2})$"
   ]
  },
  {
   "cell_type": "code",
   "execution_count": null,
   "metadata": {
    "id": "ZcmawQmedhby"
   },
   "outputs": [],
   "source": [
    "mu = 15.0\n",
    "sigma = 2.0\n",
    "mi_gaussiana = norm(loc=mu, scale=sigma)"
   ]
  },
  {
   "cell_type": "markdown",
   "metadata": {
    "id": "E2Bq1gMlfEeK"
   },
   "source": [
    "Si queremos graficar la pdf de la gaussiana, podemos usar el metodo `pdf`"
   ]
  },
  {
   "cell_type": "code",
   "execution_count": null,
   "metadata": {
    "colab": {
     "base_uri": "https://localhost:8080/",
     "height": 296
    },
    "id": "M942nYTDfD79",
    "outputId": "5a173f2c-2144-4cc6-f76e-e6e27c646384"
   },
   "outputs": [],
   "source": [
    "# valores posibles\n",
    "x = np.linspace(10.0, 20.0, 20)\n",
    "plt.plot(x, mi_gaussiana.pdf(x))\n",
    "plt.axvline(mu, color='black', linestyle='solid', label='$\\mu$')\n",
    "plt.axvline(mu-sigma, color='black', linestyle='dashed', label='$\\pm 1 s.d.$')\n",
    "plt.axvline(mu+sigma, color='black', linestyle='dashed')\n",
    "plt.axvline(mu-2.0*sigma, color='black', linestyle='dotted', label='$\\pm 2 s.d.$')\n",
    "plt.axvline(mu+2.0*sigma, color='black', linestyle='dotted')\n",
    "plt.xlabel('x')\n",
    "plt.legend(loc='upper right')\n",
    "plt.ylabel('$\\mathcal{N}(x|\\mu,\\sigma^{2})$')"
   ]
  },
  {
   "cell_type": "markdown",
   "metadata": {
    "id": "mwlxGQg6f2Ne"
   },
   "source": [
    "Si queremos generar datos a partir de la gaussiana, nuevamente tenemos el metodo `rvs`"
   ]
  },
  {
   "cell_type": "code",
   "execution_count": null,
   "metadata": {
    "id": "qcFTaGMwfPCM"
   },
   "outputs": [],
   "source": [
    "Nexp = 1000000\n",
    "mediciones = mi_gaussiana.rvs(Nexp)"
   ]
  },
  {
   "cell_type": "markdown",
   "metadata": {},
   "source": [
    "# Un ejercicio de errores y confianza"
   ]
  },
  {
   "cell_type": "markdown",
   "metadata": {},
   "source": [
    "Demos vuelta la tortilla. Supongamos que tenemos una moneda cargada, pero con $p$ desconocida. Lo único que podemos observar son los resultados de tiradas. La pregunta que queremos responder es cuál es la verdadera $p$ y cuánta confianza podemos tener en ese número"
   ]
  },
  {
   "cell_type": "markdown",
   "metadata": {},
   "source": [
    "1) Supongamos que tiramos una moneda y salen 10 caras seguidas\n",
    "- Inventen un montón de monedas, con $p$ entre 0 y 1\n",
    "- Para cada moneda, simulen 10 tiradas\n",
    "- Hagan un histograma que muestre la distribución de $p$ de las monedas que sacan las 10 caras.\n",
    "- Pongan un umbral de confianza, por ejemplo 1%. Pueden poner una cota inferior a $p$ con este valor de confianza?\n",
    "\n",
    "2) Caso más general\n",
    "- En casos más generales, se pueden diseñar test estadísticos que dan un intervalo de confianza para cierto p valor. Para este caso, pueden mirar [esta librería](https://www.statsmodels.org/dev/generated/statsmodels.stats.proportion.proportion_confint.html)\n",
    "- Si quieren probarlo, "
   ]
  },
  {
   "cell_type": "code",
   "execution_count": null,
   "metadata": {},
   "outputs": [],
   "source": []
  },
  {
   "cell_type": "code",
   "execution_count": null,
   "metadata": {},
   "outputs": [],
   "source": [
    "tiradas = np.loadtxt('datasets/tiradas.out')\n",
    "tiradas"
   ]
  },
  {
   "cell_type": "code",
   "execution_count": null,
   "metadata": {},
   "outputs": [],
   "source": []
  },
  {
   "cell_type": "markdown",
   "metadata": {
    "id": "2NO-NvS0q2sq"
   },
   "source": [
    "# Un ejercicio de inferencia bayesiana"
   ]
  },
  {
   "cell_type": "markdown",
   "metadata": {},
   "source": [
    "Una enfermedad afecta al 1% de la población de un país. Para diagnosticarla, existe un análisis clínico que detecta la enfermedad en el 87.5% de los casos en los que el paciente la padece, y tiene una especificidad del 97.5% (es decir, una tasa de falsos positivos, FPR, de 2.5%).\n",
    "\n",
    "Un paciente recibe un resultado positivo del análisis clínico.\n",
    "\n",
    "¿Qué probabilidad hay de que la persona padezca la enfermedad?"
   ]
  },
  {
   "cell_type": "code",
   "execution_count": null,
   "metadata": {},
   "outputs": [],
   "source": []
  },
  {
   "cell_type": "markdown",
   "metadata": {},
   "source": [
    "# Extras"
   ]
  },
  {
   "cell_type": "markdown",
   "metadata": {},
   "source": [
    "## Teorema Central del Limite"
   ]
  },
  {
   "cell_type": "markdown",
   "metadata": {
    "id": "Y2zYAlnCgXs9"
   },
   "source": [
    "Con lo que vimos ya podemos ejemplificar un poco el teorema central del limite.\n",
    "\n",
    "Comparemos una Binomial con p=0.6 y N yendo a infinito con una Gaussiana. La Gaussiana tendra siempre media $N\\cdot p$ y desviacion estandar $\\sqrt{N\\cdot p\\cdot (1-p)}$\n",
    "\n",
    "Noten que aca el limite no es el numero de experimentos sino en el numero de tiradas por experimento. Sin embargo, para tener datos representativos necesitamos muchos experimentos."
   ]
  },
  {
   "cell_type": "code",
   "execution_count": null,
   "metadata": {},
   "outputs": [],
   "source": [
    "p = 0.6\n",
    "N = [1, 10, 50, 100]\n",
    "for n in N:\n",
    "    data = binom(p=p, n=n).rvs(50*n)\n",
    "    a, b, c = plt.hist(data, density='True')\n",
    "    mu = n*p\n",
    "    sigma = np.sqrt(n*p*(1-p))\n",
    "    x = np.linspace(mu-3*sigma, mu+3*sigma, 30)\n",
    "    plt.plot(x, norm(loc=mu, scale=sigma).pdf(x))\n",
    "    plt.title(f'Comparacion con {50*n} experimentos')\n",
    "    plt.show()"
   ]
  },
  {
   "cell_type": "markdown",
   "metadata": {},
   "source": [
    "## Graficos 2d"
   ]
  },
  {
   "cell_type": "markdown",
   "metadata": {},
   "source": [
    "Hasta ahora solo vimos distribuciones unidimensionales. La distribucion bidimensional que mas nos interesa es, como no, una gaussiana.\n",
    "\n",
    "Ahora tenemos $\\vec{\\mu}=(\\mu_{1},\\mu_{2})^{T}$ y $\\Sigma$ una matriz de 2x2"
   ]
  },
  {
   "cell_type": "code",
   "execution_count": null,
   "metadata": {},
   "outputs": [],
   "source": [
    "mu = [1.0, -1.0]\n",
    "sigma = [[0.1, 0.01], [0.01, 0.1]]\n",
    "mi_gaussiana_2d = multivariate_normal(mean=mu, cov=sigma)"
   ]
  },
  {
   "cell_type": "markdown",
   "metadata": {},
   "source": [
    "Para graficar en 2d tenemos un par de opciones. Podemos generar datos y hacer un histograma 2d. Mientras mas dimensiones tiene un histograma, mas datos necesitamos para que sea representativo."
   ]
  },
  {
   "cell_type": "code",
   "execution_count": null,
   "metadata": {},
   "outputs": [],
   "source": [
    "datos = mi_gaussiana_2d.rvs(50000)"
   ]
  },
  {
   "cell_type": "code",
   "execution_count": null,
   "metadata": {},
   "outputs": [],
   "source": [
    "datos.shape"
   ]
  },
  {
   "cell_type": "markdown",
   "metadata": {},
   "source": [
    "Definir los bins puede ser difícil... Jueguen un poco y compruebenlo por ustedes mismos"
   ]
  },
  {
   "cell_type": "code",
   "execution_count": null,
   "metadata": {},
   "outputs": [],
   "source": [
    "plt.hist2d(datos[:, 0], datos[:, 1], bins=[10, 10], cmap='plasma')\n",
    "plt.xlabel('$x_{1}$')\n",
    "plt.ylabel('$x_{2}$')\n",
    "plt.title(r'$\\mathcal{N}(\\vec{x}|\\vec{\\mu},\\Sigma)$')\n",
    "plt.colorbar()\n",
    "plt.show()"
   ]
  },
  {
   "cell_type": "markdown",
   "metadata": {},
   "source": [
    "Uno aca puede marginalizar sumando sobre alguna direccion"
   ]
  },
  {
   "cell_type": "code",
   "execution_count": null,
   "metadata": {},
   "outputs": [],
   "source": [
    "h, xedges, yedges, image = plt.hist2d(datos[:, 0],datos[:,1 ],bins=[100, 100], cmap='plasma', density='True')"
   ]
  },
  {
   "cell_type": "code",
   "execution_count": null,
   "metadata": {},
   "outputs": [],
   "source": [
    "x1d=np.sum(h,axis=1)*(yedges[1]-yedges[0])\n",
    "x2d=np.sum(h,axis=0)*(xedges[1]-xedges[0])"
   ]
  },
  {
   "cell_type": "code",
   "execution_count": null,
   "metadata": {},
   "outputs": [],
   "source": [
    "plt.plot([0.5*(xedges[i+1]+xedges[i]) for i in range(h.shape[0])], x1d)\n",
    "plt.xlabel('$x_{1}$')\n",
    "plt.show()\n",
    "plt.plot([0.5*(yedges[i+1]+yedges[i]) for i in range(h.shape[1])], x2d)\n",
    "plt.xlabel('$x_{2}$')\n",
    "plt.show()"
   ]
  },
  {
   "cell_type": "markdown",
   "metadata": {},
   "source": [
    "También podemos verificar que la distribución está correctamente normalizada."
   ]
  },
  {
   "cell_type": "code",
   "execution_count": null,
   "metadata": {},
   "outputs": [],
   "source": [
    "np.sum(h)*(xedges[1]-xedges[0])*(yedges[1]-yedges[0])"
   ]
  },
  {
   "cell_type": "markdown",
   "metadata": {},
   "source": [
    "Otra opcion  es utilizar el metodo 'pdf' y hacer un 'contourplot'"
   ]
  },
  {
   "cell_type": "code",
   "execution_count": null,
   "metadata": {},
   "outputs": [],
   "source": [
    "x1 = np.linspace(0.0, 2.0, 100)\n",
    "x2 = np.linspace(-2.0, 0.0, 100)\n",
    "X1, X2 = np.meshgrid(x1, x2)"
   ]
  },
  {
   "cell_type": "code",
   "execution_count": null,
   "metadata": {},
   "outputs": [],
   "source": [
    "print(X1.shape, X2.shape)"
   ]
  },
  {
   "cell_type": "code",
   "execution_count": null,
   "metadata": {},
   "outputs": [],
   "source": [
    "pos = np.dstack((X1, X2))\n",
    "print(pos.shape)\n",
    "Z = mi_gaussiana_2d.pdf(pos)\n",
    "print(Z.shape)"
   ]
  },
  {
   "cell_type": "code",
   "execution_count": null,
   "metadata": {},
   "outputs": [],
   "source": [
    "plt.contourf(X1, X2, Z, cmap='gist_heat_r')\n",
    "plt.xlabel('$x_{1}$')\n",
    "plt.ylabel('$x_{2}$')\n",
    "plt.title(r'$\\mathcal{N}(\\vec{x}|\\vec{\\mu},\\Sigma)$')\n",
    "plt.colorbar()"
   ]
  },
  {
   "cell_type": "markdown",
   "metadata": {},
   "source": [
    "Y podemos superponer ambos plots"
   ]
  },
  {
   "cell_type": "code",
   "execution_count": null,
   "metadata": {},
   "outputs": [],
   "source": [
    "plt.hist2d(datos[:, 0], datos[:, 1], bins=[10, 10], density='True', cmap='gist_heat_r')\n",
    "plt.colorbar()\n",
    "pdfplot=plt.contour(X1, X2, Z, colors='blue')\n",
    "plt.clabel(pdfplot, inline=1, fontsize=10)\n",
    "plt.xlabel('$x_{1}$')\n",
    "plt.ylabel('$x_{2}$')\n",
    "plt.title(r'$\\mathcal{N}(\\vec{x}|\\vec{\\mu},\\Sigma)$')\n",
    "plt.show()"
   ]
  },
  {
   "cell_type": "code",
   "execution_count": null,
   "metadata": {},
   "outputs": [],
   "source": []
  }
 ],
 "metadata": {
  "colab": {
   "collapsed_sections": [
    "vBOvtCNRgMvx",
    "2NO-NvS0q2sq"
   ],
   "name": "02p_Probabilidad.ipynb",
   "provenance": []
  },
  "kernelspec": {
   "display_name": "Python 3",
   "language": "python",
   "name": "python3"
  },
  "language_info": {
   "codemirror_mode": {
    "name": "ipython",
    "version": 3
   },
   "file_extension": ".py",
   "mimetype": "text/x-python",
   "name": "python",
   "nbconvert_exporter": "python",
   "pygments_lexer": "ipython3",
   "version": "3.8.13"
  }
 },
 "nbformat": 4,
 "nbformat_minor": 4
}
