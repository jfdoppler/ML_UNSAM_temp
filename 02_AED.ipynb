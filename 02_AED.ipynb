{
 "cells": [
  {
   "cell_type": "markdown",
   "metadata": {
    "id": "5HOQTYNi8Igw"
   },
   "source": [
    "# Análisis Exploratorio de Datos"
   ]
  },
  {
   "cell_type": "markdown",
   "metadata": {
    "id": "SP0s0Jtt8Ig1"
   },
   "source": [
    "Uno de los primeros pasos a la hora de realizar un proyecto que involucre el análisis de datos es explorar y visualizar los datos. El objetivo principal es obtener información sobre el contenido de los datos, ayudar a enmarcar las preguntas que haremos y detectar posibles vías para avanzar en las respuestas a estas preguntas."
   ]
  },
  {
   "cell_type": "markdown",
   "metadata": {
    "id": "nujSOCA48Ig1"
   },
   "source": [
    "Vamos a trabajar con un dataset de precios de casas en Melbourne. Pueden leer un poco más [acá](https://www.kaggle.com/datasets/dansbecker/melbourne-housing-snapshot)"
   ]
  },
  {
   "cell_type": "markdown",
   "metadata": {
    "id": "F12WiLpi8Ig2"
   },
   "source": [
    "**Plan**\n",
    "\n",
    "1. Conseguir los datos.\n",
    "\n",
    "2. Exploración y visualización de los datos para obtener información.\n",
    "     * ¿Qué tipo de preguntas podemos abordar con este conjunto de datos?\n",
    "\n",
    "     * ¿Necesitamos datos adicionales?"
   ]
  },
  {
   "cell_type": "code",
   "execution_count": null,
   "metadata": {
    "id": "Y8dM4NS-8Ig4",
    "tags": []
   },
   "outputs": [],
   "source": [
    "import numpy as np\n",
    "import matplotlib.pyplot as plt\n",
    "import seaborn as sns\n",
    "import pandas as pd"
   ]
  },
  {
   "cell_type": "markdown",
   "metadata": {
    "id": "FA9wK7Dp8Ig4"
   },
   "source": [
    "## Obtención de los datos"
   ]
  },
  {
   "cell_type": "markdown",
   "metadata": {},
   "source": [
    "El primer paso es hacerse con el conjunto de datos. Un archivo `csv` está disponible en el repositorio del curso, así que simplemente definimos la ruta desde la cual leeremos el archivo."
   ]
  },
  {
   "cell_type": "code",
   "execution_count": null,
   "metadata": {
    "id": "6yoJLNym8Ig5"
   },
   "outputs": [],
   "source": [
    "data = pd.read_csv('datasets/melb_data.csv')"
   ]
  },
  {
   "cell_type": "markdown",
   "metadata": {},
   "source": [
    "## Exploración de los datos"
   ]
  },
  {
   "cell_type": "markdown",
   "metadata": {},
   "source": [
    "Ahora tenemos los datos en un formato muy práctico, una instancia de `pandas.DataFrame`.\n",
    "\n",
    "Si no estás familiarizado con `Pandas`, veremos formas muy básicas de ver el contenido de una tabla. Ante la duda se puede agregar \"?\" a un objeto o método para acceder a su documentación."
   ]
  },
  {
   "cell_type": "code",
   "execution_count": null,
   "metadata": {},
   "outputs": [],
   "source": [
    "data.head?"
   ]
  },
  {
   "cell_type": "markdown",
   "metadata": {},
   "source": [
    "Arrancamos con información general. Miremos tipos de datos, cantidad de registros y columnas"
   ]
  },
  {
   "cell_type": "code",
   "execution_count": null,
   "metadata": {},
   "outputs": [],
   "source": [
    "data.shape"
   ]
  },
  {
   "cell_type": "code",
   "execution_count": null,
   "metadata": {},
   "outputs": [],
   "source": [
    "data.columns"
   ]
  },
  {
   "cell_type": "code",
   "execution_count": null,
   "metadata": {},
   "outputs": [],
   "source": [
    "data.info()"
   ]
  },
  {
   "cell_type": "markdown",
   "metadata": {},
   "source": [
    "Para investigar, qué es 'Dtype'? Qué es object?"
   ]
  },
  {
   "cell_type": "code",
   "execution_count": null,
   "metadata": {},
   "outputs": [],
   "source": []
  },
  {
   "cell_type": "markdown",
   "metadata": {},
   "source": [
    "Es bastante común que en conjuntos de datos reales falten algunos valores (se les ocurren algunas razones?). "
   ]
  },
  {
   "cell_type": "code",
   "execution_count": null,
   "metadata": {},
   "outputs": [],
   "source": []
  },
  {
   "cell_type": "markdown",
   "metadata": {},
   "source": [
    "Miremos alguna variable categórica (que tomma valores discretos)"
   ]
  },
  {
   "cell_type": "code",
   "execution_count": null,
   "metadata": {},
   "outputs": [],
   "source": [
    "print(data['Type'].unique())\n",
    "print(data.Type.unique())"
   ]
  },
  {
   "cell_type": "markdown",
   "metadata": {},
   "source": [
    "Podemos dar un paso más y ver cuántas veces aparece cada valor."
   ]
  },
  {
   "cell_type": "code",
   "execution_count": null,
   "metadata": {},
   "outputs": [],
   "source": [
    "print(data['Type'].value_counts())\n",
    "print(data['Type'].value_counts(normalize=True).round(2))"
   ]
  },
  {
   "cell_type": "markdown",
   "metadata": {},
   "source": [
    "Ahora vamos a las variables numéricas. Un método muy útil es el 'describe' que nos puede dar un pantallazo rápido de los datos"
   ]
  },
  {
   "cell_type": "code",
   "execution_count": null,
   "metadata": {},
   "outputs": [],
   "source": [
    "data.describe()"
   ]
  },
  {
   "cell_type": "code",
   "execution_count": null,
   "metadata": {},
   "outputs": [],
   "source": [
    "data.sort_values(by='Price', ascending=False)"
   ]
  },
  {
   "cell_type": "markdown",
   "metadata": {},
   "source": [
    "## Ejercicio\n",
    "\n",
    "Hagamos algunas visualizaciones. Elijan una variable categórica y una numérica.\n",
    "1) Construyan un histograma de la variable numérica\n",
    "2) Cuáles son los valores más extremos? (Pista: 'nsmallest', 'nlargest', 'sort_values')\n",
    "3) Ahora sepárenlo segun el valor de la variable categórica. Comparen las distribuciones que observan "
   ]
  },
  {
   "cell_type": "code",
   "execution_count": null,
   "metadata": {},
   "outputs": [],
   "source": []
  },
  {
   "cell_type": "code",
   "execution_count": null,
   "metadata": {},
   "outputs": [],
   "source": []
  },
  {
   "cell_type": "markdown",
   "metadata": {},
   "source": [
    "Groupby"
   ]
  },
  {
   "cell_type": "markdown",
   "metadata": {},
   "source": [
    "El método groupby nos permite hacer cálculos y gráficos agrupando por valor de alguna variable. Por ejemplo, veamos cómo cambian los valores medios de las columnas con la variable `price`."
   ]
  },
  {
   "cell_type": "code",
   "execution_count": null,
   "metadata": {},
   "outputs": [],
   "source": [
    "data.groupby(by='Bathroom').mean()"
   ]
  },
  {
   "cell_type": "code",
   "execution_count": null,
   "metadata": {},
   "outputs": [],
   "source": []
  },
  {
   "cell_type": "markdown",
   "metadata": {},
   "source": [
    "Correlaciones"
   ]
  },
  {
   "cell_type": "markdown",
   "metadata": {},
   "source": [
    "Una métrica muy común para entender la relación (**lineal**) entre dos variables es el coeficiente de Pearson, que llamamos $\\hat{\\rho_{XY}}$. Este es un _estimador_ del coeficiente de correlación poblacional:\n",
    "\n",
    "$$\n",
    "\\hat{\\rho_{XY}} = r = \\frac{\\hat{\\mathrm{cov}}_{XY}}{\\hat{\\sigma}_X \\hat{\\sigma}_Y}\\;\\;,\n",
    "$$\n",
    "donde \n",
    "\n",
    "$$\n",
    "\\hat{\\sigma}_X^2 = \\frac{1}{N - 1}\\sum_{i=1}^N (x_i - \\bar{X})^2\\;\\;,\n",
    "$$\n",
    "$$\n",
    "\\hat{\\mathrm{cov}}_{XY} = \\frac{1}{N - 1}\\sum_{i=1}^N (x_i - \\bar{X})(y_i - \\bar{Y})\\;\\;,\n",
    "$$\n",
    "y\n",
    "$$\n",
    "\\hat{\\mu}_X = \\bar{X}\\;\\;.\n",
    "$$"
   ]
  },
  {
   "cell_type": "markdown",
   "metadata": {},
   "source": [
    "Los valores extremos son -1 y 1, para una (anti-)correlación lineal perfecta entre ambas variables."
   ]
  },
  {
   "cell_type": "markdown",
   "metadata": {},
   "source": [
    "Intuitivamente, la correlación nos dice si las variables tienen más o menos, una relación **lineal**. Para obtener una idea más intuitiva, analicemos esta imagen, tomada de [Wikipedia](https://en.wikipedia.org/wiki/Pearson_correlation_coefficient):\n",
    "\n",
    "<img src=\"https://upload.wikimedia.org/wikipedia/commons/d/d4/Correlation_examples2.svg\">\n",
    "\n",
    "Los números sobre cada subimagen indican el valor del coeficiente de Pearson. **¿Qué te hace pensar esta figura?**\n",
    "\n",
    "Miren también [este](https://www.research.autodesk.com/publications/same-stats-different-graphs/) ejemplo."
   ]
  },
  {
   "cell_type": "markdown",
   "metadata": {},
   "source": [
    "Calculemos ahora el coeficiente de Pearson para un conjunto de pares de variables"
   ]
  },
  {
   "cell_type": "code",
   "execution_count": null,
   "metadata": {},
   "outputs": [],
   "source": [
    "data.columns"
   ]
  },
  {
   "cell_type": "code",
   "execution_count": null,
   "metadata": {},
   "outputs": [],
   "source": [
    "some_columns = ['Price', 'Distance', 'Landsize', 'Lattitude']\n",
    "corr_matrix = data[some_columns].corr()"
   ]
  },
  {
   "cell_type": "code",
   "execution_count": null,
   "metadata": {},
   "outputs": [],
   "source": [
    "# What size do you expect `corr_matrix` to be?\n",
    "print(corr_matrix.shape)"
   ]
  },
  {
   "cell_type": "markdown",
   "metadata": {},
   "source": [
    "Podemos imprimir la matriz; pero más interesante, la podemos graficar."
   ]
  },
  {
   "cell_type": "code",
   "execution_count": null,
   "metadata": {},
   "outputs": [],
   "source": [
    "print(corr_matrix)"
   ]
  },
  {
   "cell_type": "code",
   "execution_count": null,
   "metadata": {},
   "outputs": [],
   "source": [
    "plt.imshow(corr_matrix)\n",
    "\n",
    "# Set ticks\n",
    "xt = plt.xticks(np.arange(len(some_columns)), some_columns, rotation=45, ha='right', va='top')\n",
    "yt = plt.yticks(np.arange(len(some_columns)), some_columns, rotation=0, ha='right', va='center')\n",
    "\n",
    "# Set colorbar\n",
    "plt.colorbar(label='Pearson CC')"
   ]
  },
  {
   "cell_type": "markdown",
   "metadata": {},
   "source": []
  },
  {
   "cell_type": "markdown",
   "metadata": {},
   "source": [
    "## Preguntas"
   ]
  },
  {
   "cell_type": "markdown",
   "metadata": {
    "id": "xRVhbZaW8Ig6"
   },
   "source": [
    "1) ¿Qué preguntas pueden responder estos datos?\n",
    "\n",
    "2) ¿Cuáles serían los primeros pasos para encontrar respuestas a esas preguntas?\n",
    "\n",
    "3) ¿Qué variables serían más relevantes en ese caso?"
   ]
  },
  {
   "cell_type": "markdown",
   "metadata": {
    "id": "TdUs5vp08Ig6"
   },
   "source": [
    "## Visualización"
   ]
  },
  {
   "cell_type": "markdown",
   "metadata": {
    "id": "YtUiIyuE8Ig7"
   },
   "source": [
    "¡Una excelente manera de obtener información a partir del conjunto de datos es hacer gráficos!\n",
    "\n",
    "`Pandas` tiene un lindo *wrapper* a `matplotlib.pyplot`, but intentaremos usar exclusivamente las funciones de `pyplot` (que importamos arriba como `plt`)."
   ]
  },
  {
   "cell_type": "markdown",
   "metadata": {
    "id": "Hs07uNXM8Ig7"
   },
   "source": [
    "Algunas funciones que podemos probar son:\n",
    "\n",
    "* `plt.plot` o `plt.scatter` para graficar una variable en función de otra.\n",
    "* `plt.hist` o `plt.bar` para ver cómo se distribuyen los valores de una variable.\n",
    "\n",
    "Y para los que tengan más tendencia a la estadística:\n",
    "\n",
    "* `plt.boxplot` para comparar las distribuciones de las variables.\n",
    "* `plt.violinplot` para hacer lo mismo usando una estimación de *kernel* (que es un algoritmo considerado de machine learning).\n",
    "\n",
    "Recuerdá que podés obtener la documentación de cada función agregando `?` al nombre. Por ejemplo:"
   ]
  },
  {
   "cell_type": "code",
   "execution_count": null,
   "metadata": {},
   "outputs": [],
   "source": [
    "plt.plot?"
   ]
  },
  {
   "cell_type": "markdown",
   "metadata": {},
   "source": [
    "La visualización sirve para mostrar alguna de la información que ya estuvimos discutiendo arriba de manera más directa.\n",
    "\n",
    "Por ejemplo, podemos ver como cambia la distribución del precio de las casas con respecto a cada categoría de `ocean proximity`."
   ]
  },
  {
   "cell_type": "code",
   "execution_count": null,
   "metadata": {},
   "outputs": [],
   "source": [
    "fig = plt.figure(figsize=(12, 6))\n",
    "ax = fig.add_subplot(111)\n",
    "\n",
    "categories = data['Bathroom'].unique()\n",
    "\n",
    "\n",
    "\n",
    "datos = [data.loc[(data['Bathroom'] == cat)].Price for cat in categories]\n",
    "\n",
    "ax.violinplot(dataset=datos, showextrema=False, showmeans=True, points=1000)\n",
    "ax.xaxis.set_ticks(range(1, len(categories)+1))\n",
    "ax.xaxis.set_ticklabels(categories)\n",
    "\n",
    "ax.set_ylabel('Price', fontsize=16)"
   ]
  },
  {
   "cell_type": "markdown",
   "metadata": {
    "tags": []
   },
   "source": [
    "Hagamos un gráfico simple de latitud versus longitud."
   ]
  },
  {
   "cell_type": "code",
   "execution_count": null,
   "metadata": {},
   "outputs": [],
   "source": [
    "# Let's make  simple plot of latitude vs longitude\n",
    "scatter = plt.scatter(data['Longtitude'], data['Lattitude'])"
   ]
  },
  {
   "cell_type": "markdown",
   "metadata": {},
   "source": [
    "Ejercicio. Agreguenle información a este gráfico. Por ejemplo, podemos visualizar el precio como color? O como tamaño? Y si queremos pintar según la zona?"
   ]
  },
  {
   "cell_type": "code",
   "execution_count": null,
   "metadata": {},
   "outputs": [],
   "source": []
  },
  {
   "cell_type": "markdown",
   "metadata": {},
   "source": [
    "Para pensar:\n",
    "\n",
    "Supongamos que tienen la tarea de predecir el precio de una casa en función de sus características. Basandose en su sentido común, qué variables creen que pueden ser útiles? Intenten demostrar que esto es así."
   ]
  },
  {
   "cell_type": "code",
   "execution_count": null,
   "metadata": {},
   "outputs": [],
   "source": []
  }
 ],
 "metadata": {
  "colab": {
   "collapsed_sections": [
    "BultmQLe8Ig-",
    "icMczJ8k8IhA"
   ],
   "name": "01_Intro.ipynb",
   "provenance": []
  },
  "kernelspec": {
   "display_name": "Python 3",
   "language": "python",
   "name": "python3"
  },
  "language_info": {
   "codemirror_mode": {
    "name": "ipython",
    "version": 3
   },
   "file_extension": ".py",
   "mimetype": "text/x-python",
   "name": "python",
   "nbconvert_exporter": "python",
   "pygments_lexer": "ipython3",
   "version": "3.8.13"
  },
  "nav_menu": {
   "height": "279px",
   "width": "309px"
  },
  "toc": {
   "base_numbering": 1,
   "nav_menu": {},
   "number_sections": true,
   "sideBar": true,
   "skip_h1_title": false,
   "title_cell": "Table of Contents",
   "title_sidebar": "Contents",
   "toc_cell": false,
   "toc_position": {
    "height": "calc(100% - 180px)",
    "left": "10px",
    "top": "150px",
    "width": "234px"
   },
   "toc_section_display": "block",
   "toc_window_display": true
  },
  "toc-autonumbering": true
 },
 "nbformat": 4,
 "nbformat_minor": 4
}
